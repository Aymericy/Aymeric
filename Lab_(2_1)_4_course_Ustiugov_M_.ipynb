{
  "cells": [
    {
      "cell_type": "markdown",
      "metadata": {
        "id": "view-in-github",
        "colab_type": "text"
      },
      "source": [
        "<a href=\"https://colab.research.google.com/github/Aymericy/Ustyugiov-M/blob/main/Lab_(2_1)_4_course_Ustiugov_M_.ipynb\" target=\"_parent\"><img src=\"https://colab.research.google.com/assets/colab-badge.svg\" alt=\"Open In Colab\"/></a>"
      ]
    },
    {
      "cell_type": "markdown",
      "metadata": {
        "id": "wB90SQMQhTFY"
      },
      "source": [
        "### Задача кластеризации"
      ]
    },
    {
      "cell_type": "markdown",
      "metadata": {
        "id": "H4Jm5f14hTFZ"
      },
      "source": [
        "#### Примеры:\n",
        "https://www.naftaliharris.com/blog/visualizing-k-means-clustering/"
      ]
    },
    {
      "cell_type": "markdown",
      "metadata": {
        "id": "zMD9k-YEhTFa"
      },
      "source": [
        "#### В Sklearn: https://scikit-learn.org/stable/modules/generated/sklearn.cluster.KMeans.html  \n",
        "\n",
        "Параметры:\n",
        "- n_clusters – количество кластеров.\n",
        "- init – способ инициализации центроидов (по умолчанию ‘k-means++’).\n",
        "- n_init – количество запусков алгоритма со случайной инициализацией центроидов (по умолчанию n_init = 10).\n",
        "- random_state – определяет случайность инициализации центроида.\n",
        "\n",
        "\n",
        "Атрибуты:\n",
        "- cluster_centers_ – координаты центров кластеров.\n",
        "- labels_ – возвращает метки кластеров.\n",
        "- inertia_ – сумма квадратов расстояний наблюдений до ближайшего центра кластера."
      ]
    },
    {
      "cell_type": "markdown",
      "metadata": {
        "id": "IAgqKIfxhTFb"
      },
      "source": [
        "#### Прочитайте материал\n",
        "https://www.dmitrymakarov.ru/intro/clustering-16/"
      ]
    },
    {
      "cell_type": "markdown",
      "metadata": {
        "id": "YoUQhpx6hTFb"
      },
      "source": [
        "### Задание\n",
        "В файле mobile.xlsx находятся данные об абонентах телекоммуникационной\n",
        "компании.  \n",
        "Целью исследования является сегментация абонентской базы для разработки\n",
        "новых тарифов и проведения маркетинговых акций."
      ]
    },
    {
      "cell_type": "code",
      "execution_count": 1,
      "metadata": {
        "colab": {
          "base_uri": "https://localhost:8080/",
          "height": 424
        },
        "id": "COKNsshkhTFc",
        "outputId": "1d595c6e-5cdb-4a0c-8e5f-b515ffc7e87d"
      },
      "outputs": [
        {
          "output_type": "execute_result",
          "data": {
            "text/plain": [
              "      Количество SMS за месяц  Количество звонков  Среднемесячный расход\n",
              "0                          56                  82                 121.54\n",
              "1                           1                 221                 287.51\n",
              "2                          36                  68                 113.70\n",
              "3                          23                  96                 410.23\n",
              "4                          29                 139                 537.60\n",
              "...                       ...                 ...                    ...\n",
              "4487                       30                  66                 186.20\n",
              "4488                       23                 112                 500.68\n",
              "4489                        5                 189                 470.42\n",
              "4490                       69                 124                 858.99\n",
              "4491                       24                 136                 151.92\n",
              "\n",
              "[4492 rows x 3 columns]"
            ],
            "text/html": [
              "\n",
              "  <div id=\"df-453761b7-bdf4-44b2-823e-2dbca0ae21ca\" class=\"colab-df-container\">\n",
              "    <div>\n",
              "<style scoped>\n",
              "    .dataframe tbody tr th:only-of-type {\n",
              "        vertical-align: middle;\n",
              "    }\n",
              "\n",
              "    .dataframe tbody tr th {\n",
              "        vertical-align: top;\n",
              "    }\n",
              "\n",
              "    .dataframe thead th {\n",
              "        text-align: right;\n",
              "    }\n",
              "</style>\n",
              "<table border=\"1\" class=\"dataframe\">\n",
              "  <thead>\n",
              "    <tr style=\"text-align: right;\">\n",
              "      <th></th>\n",
              "      <th>Количество SMS за месяц</th>\n",
              "      <th>Количество звонков</th>\n",
              "      <th>Среднемесячный расход</th>\n",
              "    </tr>\n",
              "  </thead>\n",
              "  <tbody>\n",
              "    <tr>\n",
              "      <th>0</th>\n",
              "      <td>56</td>\n",
              "      <td>82</td>\n",
              "      <td>121.54</td>\n",
              "    </tr>\n",
              "    <tr>\n",
              "      <th>1</th>\n",
              "      <td>1</td>\n",
              "      <td>221</td>\n",
              "      <td>287.51</td>\n",
              "    </tr>\n",
              "    <tr>\n",
              "      <th>2</th>\n",
              "      <td>36</td>\n",
              "      <td>68</td>\n",
              "      <td>113.70</td>\n",
              "    </tr>\n",
              "    <tr>\n",
              "      <th>3</th>\n",
              "      <td>23</td>\n",
              "      <td>96</td>\n",
              "      <td>410.23</td>\n",
              "    </tr>\n",
              "    <tr>\n",
              "      <th>4</th>\n",
              "      <td>29</td>\n",
              "      <td>139</td>\n",
              "      <td>537.60</td>\n",
              "    </tr>\n",
              "    <tr>\n",
              "      <th>...</th>\n",
              "      <td>...</td>\n",
              "      <td>...</td>\n",
              "      <td>...</td>\n",
              "    </tr>\n",
              "    <tr>\n",
              "      <th>4487</th>\n",
              "      <td>30</td>\n",
              "      <td>66</td>\n",
              "      <td>186.20</td>\n",
              "    </tr>\n",
              "    <tr>\n",
              "      <th>4488</th>\n",
              "      <td>23</td>\n",
              "      <td>112</td>\n",
              "      <td>500.68</td>\n",
              "    </tr>\n",
              "    <tr>\n",
              "      <th>4489</th>\n",
              "      <td>5</td>\n",
              "      <td>189</td>\n",
              "      <td>470.42</td>\n",
              "    </tr>\n",
              "    <tr>\n",
              "      <th>4490</th>\n",
              "      <td>69</td>\n",
              "      <td>124</td>\n",
              "      <td>858.99</td>\n",
              "    </tr>\n",
              "    <tr>\n",
              "      <th>4491</th>\n",
              "      <td>24</td>\n",
              "      <td>136</td>\n",
              "      <td>151.92</td>\n",
              "    </tr>\n",
              "  </tbody>\n",
              "</table>\n",
              "<p>4492 rows × 3 columns</p>\n",
              "</div>\n",
              "    <div class=\"colab-df-buttons\">\n",
              "\n",
              "  <div class=\"colab-df-container\">\n",
              "    <button class=\"colab-df-convert\" onclick=\"convertToInteractive('df-453761b7-bdf4-44b2-823e-2dbca0ae21ca')\"\n",
              "            title=\"Convert this dataframe to an interactive table.\"\n",
              "            style=\"display:none;\">\n",
              "\n",
              "  <svg xmlns=\"http://www.w3.org/2000/svg\" height=\"24px\" viewBox=\"0 -960 960 960\">\n",
              "    <path d=\"M120-120v-720h720v720H120Zm60-500h600v-160H180v160Zm220 220h160v-160H400v160Zm0 220h160v-160H400v160ZM180-400h160v-160H180v160Zm440 0h160v-160H620v160ZM180-180h160v-160H180v160Zm440 0h160v-160H620v160Z\"/>\n",
              "  </svg>\n",
              "    </button>\n",
              "\n",
              "  <style>\n",
              "    .colab-df-container {\n",
              "      display:flex;\n",
              "      gap: 12px;\n",
              "    }\n",
              "\n",
              "    .colab-df-convert {\n",
              "      background-color: #E8F0FE;\n",
              "      border: none;\n",
              "      border-radius: 50%;\n",
              "      cursor: pointer;\n",
              "      display: none;\n",
              "      fill: #1967D2;\n",
              "      height: 32px;\n",
              "      padding: 0 0 0 0;\n",
              "      width: 32px;\n",
              "    }\n",
              "\n",
              "    .colab-df-convert:hover {\n",
              "      background-color: #E2EBFA;\n",
              "      box-shadow: 0px 1px 2px rgba(60, 64, 67, 0.3), 0px 1px 3px 1px rgba(60, 64, 67, 0.15);\n",
              "      fill: #174EA6;\n",
              "    }\n",
              "\n",
              "    .colab-df-buttons div {\n",
              "      margin-bottom: 4px;\n",
              "    }\n",
              "\n",
              "    [theme=dark] .colab-df-convert {\n",
              "      background-color: #3B4455;\n",
              "      fill: #D2E3FC;\n",
              "    }\n",
              "\n",
              "    [theme=dark] .colab-df-convert:hover {\n",
              "      background-color: #434B5C;\n",
              "      box-shadow: 0px 1px 3px 1px rgba(0, 0, 0, 0.15);\n",
              "      filter: drop-shadow(0px 1px 2px rgba(0, 0, 0, 0.3));\n",
              "      fill: #FFFFFF;\n",
              "    }\n",
              "  </style>\n",
              "\n",
              "    <script>\n",
              "      const buttonEl =\n",
              "        document.querySelector('#df-453761b7-bdf4-44b2-823e-2dbca0ae21ca button.colab-df-convert');\n",
              "      buttonEl.style.display =\n",
              "        google.colab.kernel.accessAllowed ? 'block' : 'none';\n",
              "\n",
              "      async function convertToInteractive(key) {\n",
              "        const element = document.querySelector('#df-453761b7-bdf4-44b2-823e-2dbca0ae21ca');\n",
              "        const dataTable =\n",
              "          await google.colab.kernel.invokeFunction('convertToInteractive',\n",
              "                                                    [key], {});\n",
              "        if (!dataTable) return;\n",
              "\n",
              "        const docLinkHtml = 'Like what you see? Visit the ' +\n",
              "          '<a target=\"_blank\" href=https://colab.research.google.com/notebooks/data_table.ipynb>data table notebook</a>'\n",
              "          + ' to learn more about interactive tables.';\n",
              "        element.innerHTML = '';\n",
              "        dataTable['output_type'] = 'display_data';\n",
              "        await google.colab.output.renderOutput(dataTable, element);\n",
              "        const docLink = document.createElement('div');\n",
              "        docLink.innerHTML = docLinkHtml;\n",
              "        element.appendChild(docLink);\n",
              "      }\n",
              "    </script>\n",
              "  </div>\n",
              "\n",
              "\n",
              "<div id=\"df-8cddb205-dcac-4a4b-b1a5-c0847686429a\">\n",
              "  <button class=\"colab-df-quickchart\" onclick=\"quickchart('df-8cddb205-dcac-4a4b-b1a5-c0847686429a')\"\n",
              "            title=\"Suggest charts\"\n",
              "            style=\"display:none;\">\n",
              "\n",
              "<svg xmlns=\"http://www.w3.org/2000/svg\" height=\"24px\"viewBox=\"0 0 24 24\"\n",
              "     width=\"24px\">\n",
              "    <g>\n",
              "        <path d=\"M19 3H5c-1.1 0-2 .9-2 2v14c0 1.1.9 2 2 2h14c1.1 0 2-.9 2-2V5c0-1.1-.9-2-2-2zM9 17H7v-7h2v7zm4 0h-2V7h2v10zm4 0h-2v-4h2v4z\"/>\n",
              "    </g>\n",
              "</svg>\n",
              "  </button>\n",
              "\n",
              "<style>\n",
              "  .colab-df-quickchart {\n",
              "      --bg-color: #E8F0FE;\n",
              "      --fill-color: #1967D2;\n",
              "      --hover-bg-color: #E2EBFA;\n",
              "      --hover-fill-color: #174EA6;\n",
              "      --disabled-fill-color: #AAA;\n",
              "      --disabled-bg-color: #DDD;\n",
              "  }\n",
              "\n",
              "  [theme=dark] .colab-df-quickchart {\n",
              "      --bg-color: #3B4455;\n",
              "      --fill-color: #D2E3FC;\n",
              "      --hover-bg-color: #434B5C;\n",
              "      --hover-fill-color: #FFFFFF;\n",
              "      --disabled-bg-color: #3B4455;\n",
              "      --disabled-fill-color: #666;\n",
              "  }\n",
              "\n",
              "  .colab-df-quickchart {\n",
              "    background-color: var(--bg-color);\n",
              "    border: none;\n",
              "    border-radius: 50%;\n",
              "    cursor: pointer;\n",
              "    display: none;\n",
              "    fill: var(--fill-color);\n",
              "    height: 32px;\n",
              "    padding: 0;\n",
              "    width: 32px;\n",
              "  }\n",
              "\n",
              "  .colab-df-quickchart:hover {\n",
              "    background-color: var(--hover-bg-color);\n",
              "    box-shadow: 0 1px 2px rgba(60, 64, 67, 0.3), 0 1px 3px 1px rgba(60, 64, 67, 0.15);\n",
              "    fill: var(--button-hover-fill-color);\n",
              "  }\n",
              "\n",
              "  .colab-df-quickchart-complete:disabled,\n",
              "  .colab-df-quickchart-complete:disabled:hover {\n",
              "    background-color: var(--disabled-bg-color);\n",
              "    fill: var(--disabled-fill-color);\n",
              "    box-shadow: none;\n",
              "  }\n",
              "\n",
              "  .colab-df-spinner {\n",
              "    border: 2px solid var(--fill-color);\n",
              "    border-color: transparent;\n",
              "    border-bottom-color: var(--fill-color);\n",
              "    animation:\n",
              "      spin 1s steps(1) infinite;\n",
              "  }\n",
              "\n",
              "  @keyframes spin {\n",
              "    0% {\n",
              "      border-color: transparent;\n",
              "      border-bottom-color: var(--fill-color);\n",
              "      border-left-color: var(--fill-color);\n",
              "    }\n",
              "    20% {\n",
              "      border-color: transparent;\n",
              "      border-left-color: var(--fill-color);\n",
              "      border-top-color: var(--fill-color);\n",
              "    }\n",
              "    30% {\n",
              "      border-color: transparent;\n",
              "      border-left-color: var(--fill-color);\n",
              "      border-top-color: var(--fill-color);\n",
              "      border-right-color: var(--fill-color);\n",
              "    }\n",
              "    40% {\n",
              "      border-color: transparent;\n",
              "      border-right-color: var(--fill-color);\n",
              "      border-top-color: var(--fill-color);\n",
              "    }\n",
              "    60% {\n",
              "      border-color: transparent;\n",
              "      border-right-color: var(--fill-color);\n",
              "    }\n",
              "    80% {\n",
              "      border-color: transparent;\n",
              "      border-right-color: var(--fill-color);\n",
              "      border-bottom-color: var(--fill-color);\n",
              "    }\n",
              "    90% {\n",
              "      border-color: transparent;\n",
              "      border-bottom-color: var(--fill-color);\n",
              "    }\n",
              "  }\n",
              "</style>\n",
              "\n",
              "  <script>\n",
              "    async function quickchart(key) {\n",
              "      const quickchartButtonEl =\n",
              "        document.querySelector('#' + key + ' button');\n",
              "      quickchartButtonEl.disabled = true;  // To prevent multiple clicks.\n",
              "      quickchartButtonEl.classList.add('colab-df-spinner');\n",
              "      try {\n",
              "        const charts = await google.colab.kernel.invokeFunction(\n",
              "            'suggestCharts', [key], {});\n",
              "      } catch (error) {\n",
              "        console.error('Error during call to suggestCharts:', error);\n",
              "      }\n",
              "      quickchartButtonEl.classList.remove('colab-df-spinner');\n",
              "      quickchartButtonEl.classList.add('colab-df-quickchart-complete');\n",
              "    }\n",
              "    (() => {\n",
              "      let quickchartButtonEl =\n",
              "        document.querySelector('#df-8cddb205-dcac-4a4b-b1a5-c0847686429a button');\n",
              "      quickchartButtonEl.style.display =\n",
              "        google.colab.kernel.accessAllowed ? 'block' : 'none';\n",
              "    })();\n",
              "  </script>\n",
              "</div>\n",
              "    </div>\n",
              "  </div>\n"
            ],
            "application/vnd.google.colaboratory.intrinsic+json": {
              "type": "dataframe",
              "variable_name": "df",
              "summary": "{\n  \"name\": \"df\",\n  \"rows\": 4492,\n  \"fields\": [\n    {\n      \"column\": \"\\u041a\\u043e\\u043b\\u0438\\u0447\\u0435\\u0441\\u0442\\u0432\\u043e SMS \\u0437\\u0430 \\u043c\\u0435\\u0441\\u044f\\u0446\",\n      \"properties\": {\n        \"dtype\": \"number\",\n        \"std\": 27,\n        \"min\": 0,\n        \"max\": 179,\n        \"num_unique_values\": 156,\n        \"samples\": [\n          137,\n          67,\n          77\n        ],\n        \"semantic_type\": \"\",\n        \"description\": \"\"\n      }\n    },\n    {\n      \"column\": \"\\u041a\\u043e\\u043b\\u0438\\u0447\\u0435\\u0441\\u0442\\u0432\\u043e \\u0437\\u0432\\u043e\\u043d\\u043a\\u043e\\u0432\",\n      \"properties\": {\n        \"dtype\": \"number\",\n        \"std\": 91,\n        \"min\": 2,\n        \"max\": 635,\n        \"num_unique_values\": 450,\n        \"samples\": [\n          468,\n          367,\n          65\n        ],\n        \"semantic_type\": \"\",\n        \"description\": \"\"\n      }\n    },\n    {\n      \"column\": \"\\u0421\\u0440\\u0435\\u0434\\u043d\\u0435\\u043c\\u0435\\u0441\\u044f\\u0447\\u043d\\u044b\\u0439 \\u0440\\u0430\\u0441\\u0445\\u043e\\u0434\",\n      \"properties\": {\n        \"dtype\": \"number\",\n        \"std\": 646.2520226339898,\n        \"min\": 3.18,\n        \"max\": 5142.76,\n        \"num_unique_values\": 3742,\n        \"samples\": [\n          960.75,\n          1214.85,\n          2086.81\n        ],\n        \"semantic_type\": \"\",\n        \"description\": \"\"\n      }\n    }\n  ]\n}"
            }
          },
          "metadata": {},
          "execution_count": 1
        }
      ],
      "source": [
        "import pandas as pd\n",
        "import matplotlib.pyplot as plt\n",
        "\n",
        "df = pd.read_excel('mobile.xlsx')\n",
        "df"
      ]
    },
    {
      "cell_type": "code",
      "execution_count": 2,
      "metadata": {
        "colab": {
          "base_uri": "https://localhost:8080/"
        },
        "id": "mkEx4EdChTFe",
        "outputId": "27295f7b-ad24-4c6f-cfdd-c5916670125a"
      },
      "outputs": [
        {
          "output_type": "stream",
          "name": "stdout",
          "text": [
            "<class 'pandas.core.frame.DataFrame'>\n",
            "RangeIndex: 4492 entries, 0 to 4491\n",
            "Data columns (total 3 columns):\n",
            " #   Column                   Non-Null Count  Dtype  \n",
            "---  ------                   --------------  -----  \n",
            " 0   Количество SMS за месяц  4492 non-null   int64  \n",
            " 1   Количество звонков       4492 non-null   int64  \n",
            " 2   Среднемесячный расход    4492 non-null   float64\n",
            "dtypes: float64(1), int64(2)\n",
            "memory usage: 105.4 KB\n"
          ]
        }
      ],
      "source": [
        "df.info()"
      ]
    },
    {
      "cell_type": "code",
      "execution_count": 3,
      "metadata": {
        "colab": {
          "base_uri": "https://localhost:8080/",
          "height": 300
        },
        "id": "w5KmlDbVhTFf",
        "outputId": "f9ac2fab-843c-4093-c1f1-a70ab83343ab"
      },
      "outputs": [
        {
          "output_type": "execute_result",
          "data": {
            "text/plain": [
              "       Количество SMS за месяц  Количество звонков  Среднемесячный расход\n",
              "count              4492.000000         4492.000000            4492.000000\n",
              "mean                 21.243321          140.480632             506.155512\n",
              "std                  27.911864           91.742992             646.252023\n",
              "min                   0.000000            2.000000               3.180000\n",
              "25%                   3.000000           94.000000             152.880000\n",
              "50%                   6.000000          129.000000             316.960000\n",
              "75%                  32.000000          168.000000             600.032500\n",
              "max                 179.000000          635.000000            5142.760000"
            ],
            "text/html": [
              "\n",
              "  <div id=\"df-79a17ef2-ed80-4f5c-ad82-04b93f7a7d9b\" class=\"colab-df-container\">\n",
              "    <div>\n",
              "<style scoped>\n",
              "    .dataframe tbody tr th:only-of-type {\n",
              "        vertical-align: middle;\n",
              "    }\n",
              "\n",
              "    .dataframe tbody tr th {\n",
              "        vertical-align: top;\n",
              "    }\n",
              "\n",
              "    .dataframe thead th {\n",
              "        text-align: right;\n",
              "    }\n",
              "</style>\n",
              "<table border=\"1\" class=\"dataframe\">\n",
              "  <thead>\n",
              "    <tr style=\"text-align: right;\">\n",
              "      <th></th>\n",
              "      <th>Количество SMS за месяц</th>\n",
              "      <th>Количество звонков</th>\n",
              "      <th>Среднемесячный расход</th>\n",
              "    </tr>\n",
              "  </thead>\n",
              "  <tbody>\n",
              "    <tr>\n",
              "      <th>count</th>\n",
              "      <td>4492.000000</td>\n",
              "      <td>4492.000000</td>\n",
              "      <td>4492.000000</td>\n",
              "    </tr>\n",
              "    <tr>\n",
              "      <th>mean</th>\n",
              "      <td>21.243321</td>\n",
              "      <td>140.480632</td>\n",
              "      <td>506.155512</td>\n",
              "    </tr>\n",
              "    <tr>\n",
              "      <th>std</th>\n",
              "      <td>27.911864</td>\n",
              "      <td>91.742992</td>\n",
              "      <td>646.252023</td>\n",
              "    </tr>\n",
              "    <tr>\n",
              "      <th>min</th>\n",
              "      <td>0.000000</td>\n",
              "      <td>2.000000</td>\n",
              "      <td>3.180000</td>\n",
              "    </tr>\n",
              "    <tr>\n",
              "      <th>25%</th>\n",
              "      <td>3.000000</td>\n",
              "      <td>94.000000</td>\n",
              "      <td>152.880000</td>\n",
              "    </tr>\n",
              "    <tr>\n",
              "      <th>50%</th>\n",
              "      <td>6.000000</td>\n",
              "      <td>129.000000</td>\n",
              "      <td>316.960000</td>\n",
              "    </tr>\n",
              "    <tr>\n",
              "      <th>75%</th>\n",
              "      <td>32.000000</td>\n",
              "      <td>168.000000</td>\n",
              "      <td>600.032500</td>\n",
              "    </tr>\n",
              "    <tr>\n",
              "      <th>max</th>\n",
              "      <td>179.000000</td>\n",
              "      <td>635.000000</td>\n",
              "      <td>5142.760000</td>\n",
              "    </tr>\n",
              "  </tbody>\n",
              "</table>\n",
              "</div>\n",
              "    <div class=\"colab-df-buttons\">\n",
              "\n",
              "  <div class=\"colab-df-container\">\n",
              "    <button class=\"colab-df-convert\" onclick=\"convertToInteractive('df-79a17ef2-ed80-4f5c-ad82-04b93f7a7d9b')\"\n",
              "            title=\"Convert this dataframe to an interactive table.\"\n",
              "            style=\"display:none;\">\n",
              "\n",
              "  <svg xmlns=\"http://www.w3.org/2000/svg\" height=\"24px\" viewBox=\"0 -960 960 960\">\n",
              "    <path d=\"M120-120v-720h720v720H120Zm60-500h600v-160H180v160Zm220 220h160v-160H400v160Zm0 220h160v-160H400v160ZM180-400h160v-160H180v160Zm440 0h160v-160H620v160ZM180-180h160v-160H180v160Zm440 0h160v-160H620v160Z\"/>\n",
              "  </svg>\n",
              "    </button>\n",
              "\n",
              "  <style>\n",
              "    .colab-df-container {\n",
              "      display:flex;\n",
              "      gap: 12px;\n",
              "    }\n",
              "\n",
              "    .colab-df-convert {\n",
              "      background-color: #E8F0FE;\n",
              "      border: none;\n",
              "      border-radius: 50%;\n",
              "      cursor: pointer;\n",
              "      display: none;\n",
              "      fill: #1967D2;\n",
              "      height: 32px;\n",
              "      padding: 0 0 0 0;\n",
              "      width: 32px;\n",
              "    }\n",
              "\n",
              "    .colab-df-convert:hover {\n",
              "      background-color: #E2EBFA;\n",
              "      box-shadow: 0px 1px 2px rgba(60, 64, 67, 0.3), 0px 1px 3px 1px rgba(60, 64, 67, 0.15);\n",
              "      fill: #174EA6;\n",
              "    }\n",
              "\n",
              "    .colab-df-buttons div {\n",
              "      margin-bottom: 4px;\n",
              "    }\n",
              "\n",
              "    [theme=dark] .colab-df-convert {\n",
              "      background-color: #3B4455;\n",
              "      fill: #D2E3FC;\n",
              "    }\n",
              "\n",
              "    [theme=dark] .colab-df-convert:hover {\n",
              "      background-color: #434B5C;\n",
              "      box-shadow: 0px 1px 3px 1px rgba(0, 0, 0, 0.15);\n",
              "      filter: drop-shadow(0px 1px 2px rgba(0, 0, 0, 0.3));\n",
              "      fill: #FFFFFF;\n",
              "    }\n",
              "  </style>\n",
              "\n",
              "    <script>\n",
              "      const buttonEl =\n",
              "        document.querySelector('#df-79a17ef2-ed80-4f5c-ad82-04b93f7a7d9b button.colab-df-convert');\n",
              "      buttonEl.style.display =\n",
              "        google.colab.kernel.accessAllowed ? 'block' : 'none';\n",
              "\n",
              "      async function convertToInteractive(key) {\n",
              "        const element = document.querySelector('#df-79a17ef2-ed80-4f5c-ad82-04b93f7a7d9b');\n",
              "        const dataTable =\n",
              "          await google.colab.kernel.invokeFunction('convertToInteractive',\n",
              "                                                    [key], {});\n",
              "        if (!dataTable) return;\n",
              "\n",
              "        const docLinkHtml = 'Like what you see? Visit the ' +\n",
              "          '<a target=\"_blank\" href=https://colab.research.google.com/notebooks/data_table.ipynb>data table notebook</a>'\n",
              "          + ' to learn more about interactive tables.';\n",
              "        element.innerHTML = '';\n",
              "        dataTable['output_type'] = 'display_data';\n",
              "        await google.colab.output.renderOutput(dataTable, element);\n",
              "        const docLink = document.createElement('div');\n",
              "        docLink.innerHTML = docLinkHtml;\n",
              "        element.appendChild(docLink);\n",
              "      }\n",
              "    </script>\n",
              "  </div>\n",
              "\n",
              "\n",
              "<div id=\"df-e5abf57d-0afd-4d3e-876c-0d83d02f9287\">\n",
              "  <button class=\"colab-df-quickchart\" onclick=\"quickchart('df-e5abf57d-0afd-4d3e-876c-0d83d02f9287')\"\n",
              "            title=\"Suggest charts\"\n",
              "            style=\"display:none;\">\n",
              "\n",
              "<svg xmlns=\"http://www.w3.org/2000/svg\" height=\"24px\"viewBox=\"0 0 24 24\"\n",
              "     width=\"24px\">\n",
              "    <g>\n",
              "        <path d=\"M19 3H5c-1.1 0-2 .9-2 2v14c0 1.1.9 2 2 2h14c1.1 0 2-.9 2-2V5c0-1.1-.9-2-2-2zM9 17H7v-7h2v7zm4 0h-2V7h2v10zm4 0h-2v-4h2v4z\"/>\n",
              "    </g>\n",
              "</svg>\n",
              "  </button>\n",
              "\n",
              "<style>\n",
              "  .colab-df-quickchart {\n",
              "      --bg-color: #E8F0FE;\n",
              "      --fill-color: #1967D2;\n",
              "      --hover-bg-color: #E2EBFA;\n",
              "      --hover-fill-color: #174EA6;\n",
              "      --disabled-fill-color: #AAA;\n",
              "      --disabled-bg-color: #DDD;\n",
              "  }\n",
              "\n",
              "  [theme=dark] .colab-df-quickchart {\n",
              "      --bg-color: #3B4455;\n",
              "      --fill-color: #D2E3FC;\n",
              "      --hover-bg-color: #434B5C;\n",
              "      --hover-fill-color: #FFFFFF;\n",
              "      --disabled-bg-color: #3B4455;\n",
              "      --disabled-fill-color: #666;\n",
              "  }\n",
              "\n",
              "  .colab-df-quickchart {\n",
              "    background-color: var(--bg-color);\n",
              "    border: none;\n",
              "    border-radius: 50%;\n",
              "    cursor: pointer;\n",
              "    display: none;\n",
              "    fill: var(--fill-color);\n",
              "    height: 32px;\n",
              "    padding: 0;\n",
              "    width: 32px;\n",
              "  }\n",
              "\n",
              "  .colab-df-quickchart:hover {\n",
              "    background-color: var(--hover-bg-color);\n",
              "    box-shadow: 0 1px 2px rgba(60, 64, 67, 0.3), 0 1px 3px 1px rgba(60, 64, 67, 0.15);\n",
              "    fill: var(--button-hover-fill-color);\n",
              "  }\n",
              "\n",
              "  .colab-df-quickchart-complete:disabled,\n",
              "  .colab-df-quickchart-complete:disabled:hover {\n",
              "    background-color: var(--disabled-bg-color);\n",
              "    fill: var(--disabled-fill-color);\n",
              "    box-shadow: none;\n",
              "  }\n",
              "\n",
              "  .colab-df-spinner {\n",
              "    border: 2px solid var(--fill-color);\n",
              "    border-color: transparent;\n",
              "    border-bottom-color: var(--fill-color);\n",
              "    animation:\n",
              "      spin 1s steps(1) infinite;\n",
              "  }\n",
              "\n",
              "  @keyframes spin {\n",
              "    0% {\n",
              "      border-color: transparent;\n",
              "      border-bottom-color: var(--fill-color);\n",
              "      border-left-color: var(--fill-color);\n",
              "    }\n",
              "    20% {\n",
              "      border-color: transparent;\n",
              "      border-left-color: var(--fill-color);\n",
              "      border-top-color: var(--fill-color);\n",
              "    }\n",
              "    30% {\n",
              "      border-color: transparent;\n",
              "      border-left-color: var(--fill-color);\n",
              "      border-top-color: var(--fill-color);\n",
              "      border-right-color: var(--fill-color);\n",
              "    }\n",
              "    40% {\n",
              "      border-color: transparent;\n",
              "      border-right-color: var(--fill-color);\n",
              "      border-top-color: var(--fill-color);\n",
              "    }\n",
              "    60% {\n",
              "      border-color: transparent;\n",
              "      border-right-color: var(--fill-color);\n",
              "    }\n",
              "    80% {\n",
              "      border-color: transparent;\n",
              "      border-right-color: var(--fill-color);\n",
              "      border-bottom-color: var(--fill-color);\n",
              "    }\n",
              "    90% {\n",
              "      border-color: transparent;\n",
              "      border-bottom-color: var(--fill-color);\n",
              "    }\n",
              "  }\n",
              "</style>\n",
              "\n",
              "  <script>\n",
              "    async function quickchart(key) {\n",
              "      const quickchartButtonEl =\n",
              "        document.querySelector('#' + key + ' button');\n",
              "      quickchartButtonEl.disabled = true;  // To prevent multiple clicks.\n",
              "      quickchartButtonEl.classList.add('colab-df-spinner');\n",
              "      try {\n",
              "        const charts = await google.colab.kernel.invokeFunction(\n",
              "            'suggestCharts', [key], {});\n",
              "      } catch (error) {\n",
              "        console.error('Error during call to suggestCharts:', error);\n",
              "      }\n",
              "      quickchartButtonEl.classList.remove('colab-df-spinner');\n",
              "      quickchartButtonEl.classList.add('colab-df-quickchart-complete');\n",
              "    }\n",
              "    (() => {\n",
              "      let quickchartButtonEl =\n",
              "        document.querySelector('#df-e5abf57d-0afd-4d3e-876c-0d83d02f9287 button');\n",
              "      quickchartButtonEl.style.display =\n",
              "        google.colab.kernel.accessAllowed ? 'block' : 'none';\n",
              "    })();\n",
              "  </script>\n",
              "</div>\n",
              "    </div>\n",
              "  </div>\n"
            ],
            "application/vnd.google.colaboratory.intrinsic+json": {
              "type": "dataframe",
              "summary": "{\n  \"name\": \"df\",\n  \"rows\": 8,\n  \"fields\": [\n    {\n      \"column\": \"\\u041a\\u043e\\u043b\\u0438\\u0447\\u0435\\u0441\\u0442\\u0432\\u043e SMS \\u0437\\u0430 \\u043c\\u0435\\u0441\\u044f\\u0446\",\n      \"properties\": {\n        \"dtype\": \"number\",\n        \"std\": 1575.6553971187102,\n        \"min\": 0.0,\n        \"max\": 4492.0,\n        \"num_unique_values\": 8,\n        \"samples\": [\n          21.243321460374,\n          6.0,\n          4492.0\n        ],\n        \"semantic_type\": \"\",\n        \"description\": \"\"\n      }\n    },\n    {\n      \"column\": \"\\u041a\\u043e\\u043b\\u0438\\u0447\\u0435\\u0441\\u0442\\u0432\\u043e \\u0437\\u0432\\u043e\\u043d\\u043a\\u043e\\u0432\",\n      \"properties\": {\n        \"dtype\": \"number\",\n        \"std\": 1536.5609098236412,\n        \"min\": 2.0,\n        \"max\": 4492.0,\n        \"num_unique_values\": 8,\n        \"samples\": [\n          140.48063223508458,\n          129.0,\n          4492.0\n        ],\n        \"semantic_type\": \"\",\n        \"description\": \"\"\n      }\n    },\n    {\n      \"column\": \"\\u0421\\u0440\\u0435\\u0434\\u043d\\u0435\\u043c\\u0435\\u0441\\u044f\\u0447\\u043d\\u044b\\u0439 \\u0440\\u0430\\u0441\\u0445\\u043e\\u0434\",\n      \"properties\": {\n        \"dtype\": \"number\",\n        \"std\": 2077.108640715995,\n        \"min\": 3.18,\n        \"max\": 5142.76,\n        \"num_unique_values\": 8,\n        \"samples\": [\n          506.15551202137135,\n          316.96000000000004,\n          4492.0\n        ],\n        \"semantic_type\": \"\",\n        \"description\": \"\"\n      }\n    }\n  ]\n}"
            }
          },
          "metadata": {},
          "execution_count": 3
        }
      ],
      "source": [
        "df.describe()"
      ]
    },
    {
      "cell_type": "code",
      "execution_count": 4,
      "metadata": {
        "id": "lLs6mvq2hTFg"
      },
      "outputs": [],
      "source": [
        "# подключим функции для реализации алгоритмов кластеризации\n",
        "from sklearn.cluster import AgglomerativeClustering, KMeans, DBSCAN\n",
        "# подключим метрики ARI и \"силуэт\"\n",
        "from sklearn.metrics import adjusted_rand_score, silhouette_score"
      ]
    },
    {
      "cell_type": "code",
      "execution_count": 5,
      "metadata": {
        "id": "_4xC7SdihTFg"
      },
      "outputs": [],
      "source": [
        "# как и в случае классификации, выполним нормализацию данных\n",
        "# однако делить данные на обучающую и тестовую выборку не будем -\n",
        "# в задаче кластеризации это не требуется. Есть просто набор данных\n",
        "# (в нашем случае размеченных - мы знаем истинное разбиение на кластеры),\n",
        "# нужно отнести каждый объект набора к тому или иному кластеру\n",
        "claster_tags = ['Количество SMS за месяц', 'Количество звонков', 'Среднемесячный расход']\n",
        "X = df[claster_tags]\n",
        "from sklearn.preprocessing import MinMaxScaler  # минимаксная нормализация"
      ]
    },
    {
      "cell_type": "code",
      "execution_count": 6,
      "metadata": {
        "id": "ZuY1ODoXhTFh"
      },
      "outputs": [],
      "source": [
        "# Нормализация данных\n",
        "dfs = X.copy(deep=True) #Перед изменением полностью копируем данные.\n",
        "dfs[claster_tags] = MinMaxScaler().fit_transform(dfs)"
      ]
    },
    {
      "cell_type": "markdown",
      "metadata": {
        "id": "Vz-pwRNdhTFh"
      },
      "source": [
        "### 1. Метод k-means"
      ]
    },
    {
      "cell_type": "code",
      "execution_count": 7,
      "metadata": {
        "colab": {
          "base_uri": "https://localhost:8080/",
          "height": 206
        },
        "id": "JgvswTJkhTFh",
        "outputId": "c5018b46-32e7-4281-dabf-76109af79ffa"
      },
      "outputs": [
        {
          "output_type": "execute_result",
          "data": {
            "text/plain": [
              "   Количество SMS за месяц  Количество звонков  Среднемесячный расход  Кластер\n",
              "0                       56                  82                 121.54        0\n",
              "1                        1                 221                 287.51        2\n",
              "2                       36                  68                 113.70        2\n",
              "3                       23                  96                 410.23        2\n",
              "4                       29                 139                 537.60        2"
            ],
            "text/html": [
              "\n",
              "  <div id=\"df-3e6b8d32-ece4-40bf-a094-6aa5bfb9aed1\" class=\"colab-df-container\">\n",
              "    <div>\n",
              "<style scoped>\n",
              "    .dataframe tbody tr th:only-of-type {\n",
              "        vertical-align: middle;\n",
              "    }\n",
              "\n",
              "    .dataframe tbody tr th {\n",
              "        vertical-align: top;\n",
              "    }\n",
              "\n",
              "    .dataframe thead th {\n",
              "        text-align: right;\n",
              "    }\n",
              "</style>\n",
              "<table border=\"1\" class=\"dataframe\">\n",
              "  <thead>\n",
              "    <tr style=\"text-align: right;\">\n",
              "      <th></th>\n",
              "      <th>Количество SMS за месяц</th>\n",
              "      <th>Количество звонков</th>\n",
              "      <th>Среднемесячный расход</th>\n",
              "      <th>Кластер</th>\n",
              "    </tr>\n",
              "  </thead>\n",
              "  <tbody>\n",
              "    <tr>\n",
              "      <th>0</th>\n",
              "      <td>56</td>\n",
              "      <td>82</td>\n",
              "      <td>121.54</td>\n",
              "      <td>0</td>\n",
              "    </tr>\n",
              "    <tr>\n",
              "      <th>1</th>\n",
              "      <td>1</td>\n",
              "      <td>221</td>\n",
              "      <td>287.51</td>\n",
              "      <td>2</td>\n",
              "    </tr>\n",
              "    <tr>\n",
              "      <th>2</th>\n",
              "      <td>36</td>\n",
              "      <td>68</td>\n",
              "      <td>113.70</td>\n",
              "      <td>2</td>\n",
              "    </tr>\n",
              "    <tr>\n",
              "      <th>3</th>\n",
              "      <td>23</td>\n",
              "      <td>96</td>\n",
              "      <td>410.23</td>\n",
              "      <td>2</td>\n",
              "    </tr>\n",
              "    <tr>\n",
              "      <th>4</th>\n",
              "      <td>29</td>\n",
              "      <td>139</td>\n",
              "      <td>537.60</td>\n",
              "      <td>2</td>\n",
              "    </tr>\n",
              "  </tbody>\n",
              "</table>\n",
              "</div>\n",
              "    <div class=\"colab-df-buttons\">\n",
              "\n",
              "  <div class=\"colab-df-container\">\n",
              "    <button class=\"colab-df-convert\" onclick=\"convertToInteractive('df-3e6b8d32-ece4-40bf-a094-6aa5bfb9aed1')\"\n",
              "            title=\"Convert this dataframe to an interactive table.\"\n",
              "            style=\"display:none;\">\n",
              "\n",
              "  <svg xmlns=\"http://www.w3.org/2000/svg\" height=\"24px\" viewBox=\"0 -960 960 960\">\n",
              "    <path d=\"M120-120v-720h720v720H120Zm60-500h600v-160H180v160Zm220 220h160v-160H400v160Zm0 220h160v-160H400v160ZM180-400h160v-160H180v160Zm440 0h160v-160H620v160ZM180-180h160v-160H180v160Zm440 0h160v-160H620v160Z\"/>\n",
              "  </svg>\n",
              "    </button>\n",
              "\n",
              "  <style>\n",
              "    .colab-df-container {\n",
              "      display:flex;\n",
              "      gap: 12px;\n",
              "    }\n",
              "\n",
              "    .colab-df-convert {\n",
              "      background-color: #E8F0FE;\n",
              "      border: none;\n",
              "      border-radius: 50%;\n",
              "      cursor: pointer;\n",
              "      display: none;\n",
              "      fill: #1967D2;\n",
              "      height: 32px;\n",
              "      padding: 0 0 0 0;\n",
              "      width: 32px;\n",
              "    }\n",
              "\n",
              "    .colab-df-convert:hover {\n",
              "      background-color: #E2EBFA;\n",
              "      box-shadow: 0px 1px 2px rgba(60, 64, 67, 0.3), 0px 1px 3px 1px rgba(60, 64, 67, 0.15);\n",
              "      fill: #174EA6;\n",
              "    }\n",
              "\n",
              "    .colab-df-buttons div {\n",
              "      margin-bottom: 4px;\n",
              "    }\n",
              "\n",
              "    [theme=dark] .colab-df-convert {\n",
              "      background-color: #3B4455;\n",
              "      fill: #D2E3FC;\n",
              "    }\n",
              "\n",
              "    [theme=dark] .colab-df-convert:hover {\n",
              "      background-color: #434B5C;\n",
              "      box-shadow: 0px 1px 3px 1px rgba(0, 0, 0, 0.15);\n",
              "      filter: drop-shadow(0px 1px 2px rgba(0, 0, 0, 0.3));\n",
              "      fill: #FFFFFF;\n",
              "    }\n",
              "  </style>\n",
              "\n",
              "    <script>\n",
              "      const buttonEl =\n",
              "        document.querySelector('#df-3e6b8d32-ece4-40bf-a094-6aa5bfb9aed1 button.colab-df-convert');\n",
              "      buttonEl.style.display =\n",
              "        google.colab.kernel.accessAllowed ? 'block' : 'none';\n",
              "\n",
              "      async function convertToInteractive(key) {\n",
              "        const element = document.querySelector('#df-3e6b8d32-ece4-40bf-a094-6aa5bfb9aed1');\n",
              "        const dataTable =\n",
              "          await google.colab.kernel.invokeFunction('convertToInteractive',\n",
              "                                                    [key], {});\n",
              "        if (!dataTable) return;\n",
              "\n",
              "        const docLinkHtml = 'Like what you see? Visit the ' +\n",
              "          '<a target=\"_blank\" href=https://colab.research.google.com/notebooks/data_table.ipynb>data table notebook</a>'\n",
              "          + ' to learn more about interactive tables.';\n",
              "        element.innerHTML = '';\n",
              "        dataTable['output_type'] = 'display_data';\n",
              "        await google.colab.output.renderOutput(dataTable, element);\n",
              "        const docLink = document.createElement('div');\n",
              "        docLink.innerHTML = docLinkHtml;\n",
              "        element.appendChild(docLink);\n",
              "      }\n",
              "    </script>\n",
              "  </div>\n",
              "\n",
              "\n",
              "<div id=\"df-70a56cce-3f1b-4186-b779-8686a93fe71d\">\n",
              "  <button class=\"colab-df-quickchart\" onclick=\"quickchart('df-70a56cce-3f1b-4186-b779-8686a93fe71d')\"\n",
              "            title=\"Suggest charts\"\n",
              "            style=\"display:none;\">\n",
              "\n",
              "<svg xmlns=\"http://www.w3.org/2000/svg\" height=\"24px\"viewBox=\"0 0 24 24\"\n",
              "     width=\"24px\">\n",
              "    <g>\n",
              "        <path d=\"M19 3H5c-1.1 0-2 .9-2 2v14c0 1.1.9 2 2 2h14c1.1 0 2-.9 2-2V5c0-1.1-.9-2-2-2zM9 17H7v-7h2v7zm4 0h-2V7h2v10zm4 0h-2v-4h2v4z\"/>\n",
              "    </g>\n",
              "</svg>\n",
              "  </button>\n",
              "\n",
              "<style>\n",
              "  .colab-df-quickchart {\n",
              "      --bg-color: #E8F0FE;\n",
              "      --fill-color: #1967D2;\n",
              "      --hover-bg-color: #E2EBFA;\n",
              "      --hover-fill-color: #174EA6;\n",
              "      --disabled-fill-color: #AAA;\n",
              "      --disabled-bg-color: #DDD;\n",
              "  }\n",
              "\n",
              "  [theme=dark] .colab-df-quickchart {\n",
              "      --bg-color: #3B4455;\n",
              "      --fill-color: #D2E3FC;\n",
              "      --hover-bg-color: #434B5C;\n",
              "      --hover-fill-color: #FFFFFF;\n",
              "      --disabled-bg-color: #3B4455;\n",
              "      --disabled-fill-color: #666;\n",
              "  }\n",
              "\n",
              "  .colab-df-quickchart {\n",
              "    background-color: var(--bg-color);\n",
              "    border: none;\n",
              "    border-radius: 50%;\n",
              "    cursor: pointer;\n",
              "    display: none;\n",
              "    fill: var(--fill-color);\n",
              "    height: 32px;\n",
              "    padding: 0;\n",
              "    width: 32px;\n",
              "  }\n",
              "\n",
              "  .colab-df-quickchart:hover {\n",
              "    background-color: var(--hover-bg-color);\n",
              "    box-shadow: 0 1px 2px rgba(60, 64, 67, 0.3), 0 1px 3px 1px rgba(60, 64, 67, 0.15);\n",
              "    fill: var(--button-hover-fill-color);\n",
              "  }\n",
              "\n",
              "  .colab-df-quickchart-complete:disabled,\n",
              "  .colab-df-quickchart-complete:disabled:hover {\n",
              "    background-color: var(--disabled-bg-color);\n",
              "    fill: var(--disabled-fill-color);\n",
              "    box-shadow: none;\n",
              "  }\n",
              "\n",
              "  .colab-df-spinner {\n",
              "    border: 2px solid var(--fill-color);\n",
              "    border-color: transparent;\n",
              "    border-bottom-color: var(--fill-color);\n",
              "    animation:\n",
              "      spin 1s steps(1) infinite;\n",
              "  }\n",
              "\n",
              "  @keyframes spin {\n",
              "    0% {\n",
              "      border-color: transparent;\n",
              "      border-bottom-color: var(--fill-color);\n",
              "      border-left-color: var(--fill-color);\n",
              "    }\n",
              "    20% {\n",
              "      border-color: transparent;\n",
              "      border-left-color: var(--fill-color);\n",
              "      border-top-color: var(--fill-color);\n",
              "    }\n",
              "    30% {\n",
              "      border-color: transparent;\n",
              "      border-left-color: var(--fill-color);\n",
              "      border-top-color: var(--fill-color);\n",
              "      border-right-color: var(--fill-color);\n",
              "    }\n",
              "    40% {\n",
              "      border-color: transparent;\n",
              "      border-right-color: var(--fill-color);\n",
              "      border-top-color: var(--fill-color);\n",
              "    }\n",
              "    60% {\n",
              "      border-color: transparent;\n",
              "      border-right-color: var(--fill-color);\n",
              "    }\n",
              "    80% {\n",
              "      border-color: transparent;\n",
              "      border-right-color: var(--fill-color);\n",
              "      border-bottom-color: var(--fill-color);\n",
              "    }\n",
              "    90% {\n",
              "      border-color: transparent;\n",
              "      border-bottom-color: var(--fill-color);\n",
              "    }\n",
              "  }\n",
              "</style>\n",
              "\n",
              "  <script>\n",
              "    async function quickchart(key) {\n",
              "      const quickchartButtonEl =\n",
              "        document.querySelector('#' + key + ' button');\n",
              "      quickchartButtonEl.disabled = true;  // To prevent multiple clicks.\n",
              "      quickchartButtonEl.classList.add('colab-df-spinner');\n",
              "      try {\n",
              "        const charts = await google.colab.kernel.invokeFunction(\n",
              "            'suggestCharts', [key], {});\n",
              "      } catch (error) {\n",
              "        console.error('Error during call to suggestCharts:', error);\n",
              "      }\n",
              "      quickchartButtonEl.classList.remove('colab-df-spinner');\n",
              "      quickchartButtonEl.classList.add('colab-df-quickchart-complete');\n",
              "    }\n",
              "    (() => {\n",
              "      let quickchartButtonEl =\n",
              "        document.querySelector('#df-70a56cce-3f1b-4186-b779-8686a93fe71d button');\n",
              "      quickchartButtonEl.style.display =\n",
              "        google.colab.kernel.accessAllowed ? 'block' : 'none';\n",
              "    })();\n",
              "  </script>\n",
              "</div>\n",
              "    </div>\n",
              "  </div>\n"
            ],
            "application/vnd.google.colaboratory.intrinsic+json": {
              "type": "dataframe",
              "variable_name": "df",
              "summary": "{\n  \"name\": \"df\",\n  \"rows\": 4492,\n  \"fields\": [\n    {\n      \"column\": \"\\u041a\\u043e\\u043b\\u0438\\u0447\\u0435\\u0441\\u0442\\u0432\\u043e SMS \\u0437\\u0430 \\u043c\\u0435\\u0441\\u044f\\u0446\",\n      \"properties\": {\n        \"dtype\": \"number\",\n        \"std\": 27,\n        \"min\": 0,\n        \"max\": 179,\n        \"num_unique_values\": 156,\n        \"samples\": [\n          137,\n          67,\n          77\n        ],\n        \"semantic_type\": \"\",\n        \"description\": \"\"\n      }\n    },\n    {\n      \"column\": \"\\u041a\\u043e\\u043b\\u0438\\u0447\\u0435\\u0441\\u0442\\u0432\\u043e \\u0437\\u0432\\u043e\\u043d\\u043a\\u043e\\u0432\",\n      \"properties\": {\n        \"dtype\": \"number\",\n        \"std\": 91,\n        \"min\": 2,\n        \"max\": 635,\n        \"num_unique_values\": 450,\n        \"samples\": [\n          468,\n          367,\n          65\n        ],\n        \"semantic_type\": \"\",\n        \"description\": \"\"\n      }\n    },\n    {\n      \"column\": \"\\u0421\\u0440\\u0435\\u0434\\u043d\\u0435\\u043c\\u0435\\u0441\\u044f\\u0447\\u043d\\u044b\\u0439 \\u0440\\u0430\\u0441\\u0445\\u043e\\u0434\",\n      \"properties\": {\n        \"dtype\": \"number\",\n        \"std\": 646.2520226339898,\n        \"min\": 3.18,\n        \"max\": 5142.76,\n        \"num_unique_values\": 3742,\n        \"samples\": [\n          960.75,\n          1214.85,\n          2086.81\n        ],\n        \"semantic_type\": \"\",\n        \"description\": \"\"\n      }\n    },\n    {\n      \"column\": \"\\u041a\\u043b\\u0430\\u0441\\u0442\\u0435\\u0440\",\n      \"properties\": {\n        \"dtype\": \"int32\",\n        \"num_unique_values\": 3,\n        \"samples\": [\n          0,\n          2,\n          1\n        ],\n        \"semantic_type\": \"\",\n        \"description\": \"\"\n      }\n    }\n  ]\n}"
            }
          },
          "metadata": {},
          "execution_count": 7
        }
      ],
      "source": [
        "\n",
        "# Создаем экземпляр класса k-means\n",
        "kmeans = KMeans(n_clusters=3, init='k-means++', n_init=10, random_state=0)\n",
        "\n",
        "# Обучаем алгоритм на данных с помощью метода fit\n",
        "kmeans.fit(dfs[claster_tags])\n",
        "y_pred_km_s = kmeans.predict(dfs[claster_tags])\n",
        "\n",
        "# Записываем номера кластеров в новый столбец\n",
        "df['Кластер'] = kmeans.labels_\n",
        "df.head()"
      ]
    },
    {
      "cell_type": "code",
      "source": [
        "# Визуализация метода k-means\n",
        "\n",
        "x= df['Кластер']\n",
        "y = df['Среднемесячный расход']\n",
        "fig, ax = plt.subplots(figsize=(8,5))\n",
        "sc = ax.scatter(x, y, c=y_pred_km_s, cmap='tab20')\n",
        "ax.grid(True)\n",
        "plt.xlabel(\"Кластер\",fontsize=14)\n",
        "plt.ylabel(\"Среднемесячный расход\",fontsize=15)\n",
        "ax.legend(*sc.legend_elements(), title='Кластеры')\n",
        "# Метод K-means разделил на 3 кластера и судя по графикам, давльно неплохо"
      ],
      "metadata": {
        "id": "G6FZ0bqAjrlP",
        "colab": {
          "base_uri": "https://localhost:8080/",
          "height": 487
        },
        "outputId": "e4787081-827b-498e-826d-0a1da856cfc6"
      },
      "execution_count": 8,
      "outputs": [
        {
          "output_type": "execute_result",
          "data": {
            "text/plain": [
              "<matplotlib.legend.Legend at 0x79445e460ac0>"
            ]
          },
          "metadata": {},
          "execution_count": 8
        },
        {
          "output_type": "display_data",
          "data": {
            "text/plain": [
              "<Figure size 800x500 with 1 Axes>"
            ],
            "image/png": "[encoded data removed]"
          },
          "metadata": {}
        }
      ]
    },
    {
      "cell_type": "markdown",
      "metadata": {
        "id": "CEXQgl9BhTFi"
      },
      "source": [
        "#### Метод локтя"
      ]
    },
    {
      "cell_type": "code",
      "execution_count": 9,
      "metadata": {
        "colab": {
          "base_uri": "https://localhost:8080/",
          "height": 489
        },
        "id": "fvO0qfurhTFi",
        "outputId": "23a19684-9b26-42fd-8bf5-e69215967aea"
      },
      "outputs": [
        {
          "output_type": "execute_result",
          "data": {
            "text/plain": [
              "Text(0, 0.5, 'WCSS')"
            ]
          },
          "metadata": {},
          "execution_count": 9
        },
        {
          "output_type": "display_data",
          "data": {
            "text/plain": [
              "<Figure size 640x480 with 1 Axes>"
            ],
            "image/png": "[encoded data removed]"
          },
          "metadata": {}
        }
      ],
      "source": [
        "# Создадим список, в который будем записывать значение критерия качества k-means\n",
        "criterion = []\n",
        "# Количество кластеров будем изменять от 2 до 7\n",
        "for k in range(2,8):\n",
        "    kmeans = KMeans(n_clusters = k)\n",
        "    kmeans.fit(dfs[claster_tags])\n",
        "    criterion.append(kmeans.inertia_)\n",
        "\n",
        "import matplotlib.pyplot as plt\n",
        "plt.plot(range(2,8), criterion)\n",
        "plt.title('Выбор количества кластеров методом локтя')\n",
        "plt.xlabel('Количество кластеров')\n",
        "plt.ylabel('WCSS')\n",
        "#Метод локтя показывает оптимальным - 3 числа кластеров"
      ]
    },
    {
      "cell_type": "markdown",
      "metadata": {
        "id": "Gy5GR9BrhTFi"
      },
      "source": [
        "#### Визуализация кластеров"
      ]
    },
    {
      "cell_type": "code",
      "execution_count": 10,
      "metadata": {
        "id": "b8sLPhrphTFi",
        "colab": {
          "base_uri": "https://localhost:8080/",
          "height": 143
        },
        "outputId": "61fee147-0329-42a1-9407-c27a34d368c4"
      },
      "outputs": [
        {
          "output_type": "execute_result",
          "data": {
            "text/plain": [
              "   Количество SMS за месяц  Количество звонков  Среднемесячный расход  \\\n",
              "0                 0.312849            0.126382               0.023029   \n",
              "1                 0.005587            0.345972               0.055322   \n",
              "2                 0.201117            0.104265               0.021504   \n",
              "\n",
              "        PC1       PC2  \n",
              "0 -0.034612  0.224186  \n",
              "1  0.022968 -0.121821  \n",
              "2 -0.094553  0.127415  "
            ],
            "text/html": [
              "\n",
              "  <div id=\"df-e91003ae-a564-4a31-a249-ff39b1a700e0\" class=\"colab-df-container\">\n",
              "    <div>\n",
              "<style scoped>\n",
              "    .dataframe tbody tr th:only-of-type {\n",
              "        vertical-align: middle;\n",
              "    }\n",
              "\n",
              "    .dataframe tbody tr th {\n",
              "        vertical-align: top;\n",
              "    }\n",
              "\n",
              "    .dataframe thead th {\n",
              "        text-align: right;\n",
              "    }\n",
              "</style>\n",
              "<table border=\"1\" class=\"dataframe\">\n",
              "  <thead>\n",
              "    <tr style=\"text-align: right;\">\n",
              "      <th></th>\n",
              "      <th>Количество SMS за месяц</th>\n",
              "      <th>Количество звонков</th>\n",
              "      <th>Среднемесячный расход</th>\n",
              "      <th>PC1</th>\n",
              "      <th>PC2</th>\n",
              "    </tr>\n",
              "  </thead>\n",
              "  <tbody>\n",
              "    <tr>\n",
              "      <th>0</th>\n",
              "      <td>0.312849</td>\n",
              "      <td>0.126382</td>\n",
              "      <td>0.023029</td>\n",
              "      <td>-0.034612</td>\n",
              "      <td>0.224186</td>\n",
              "    </tr>\n",
              "    <tr>\n",
              "      <th>1</th>\n",
              "      <td>0.005587</td>\n",
              "      <td>0.345972</td>\n",
              "      <td>0.055322</td>\n",
              "      <td>0.022968</td>\n",
              "      <td>-0.121821</td>\n",
              "    </tr>\n",
              "    <tr>\n",
              "      <th>2</th>\n",
              "      <td>0.201117</td>\n",
              "      <td>0.104265</td>\n",
              "      <td>0.021504</td>\n",
              "      <td>-0.094553</td>\n",
              "      <td>0.127415</td>\n",
              "    </tr>\n",
              "  </tbody>\n",
              "</table>\n",
              "</div>\n",
              "    <div class=\"colab-df-buttons\">\n",
              "\n",
              "  <div class=\"colab-df-container\">\n",
              "    <button class=\"colab-df-convert\" onclick=\"convertToInteractive('df-e91003ae-a564-4a31-a249-ff39b1a700e0')\"\n",
              "            title=\"Convert this dataframe to an interactive table.\"\n",
              "            style=\"display:none;\">\n",
              "\n",
              "  <svg xmlns=\"http://www.w3.org/2000/svg\" height=\"24px\" viewBox=\"0 -960 960 960\">\n",
              "    <path d=\"M120-120v-720h720v720H120Zm60-500h600v-160H180v160Zm220 220h160v-160H400v160Zm0 220h160v-160H400v160ZM180-400h160v-160H180v160Zm440 0h160v-160H620v160ZM180-180h160v-160H180v160Zm440 0h160v-160H620v160Z\"/>\n",
              "  </svg>\n",
              "    </button>\n",
              "\n",
              "  <style>\n",
              "    .colab-df-container {\n",
              "      display:flex;\n",
              "      gap: 12px;\n",
              "    }\n",
              "\n",
              "    .colab-df-convert {\n",
              "      background-color: #E8F0FE;\n",
              "      border: none;\n",
              "      border-radius: 50%;\n",
              "      cursor: pointer;\n",
              "      display: none;\n",
              "      fill: #1967D2;\n",
              "      height: 32px;\n",
              "      padding: 0 0 0 0;\n",
              "      width: 32px;\n",
              "    }\n",
              "\n",
              "    .colab-df-convert:hover {\n",
              "      background-color: #E2EBFA;\n",
              "      box-shadow: 0px 1px 2px rgba(60, 64, 67, 0.3), 0px 1px 3px 1px rgba(60, 64, 67, 0.15);\n",
              "      fill: #174EA6;\n",
              "    }\n",
              "\n",
              "    .colab-df-buttons div {\n",
              "      margin-bottom: 4px;\n",
              "    }\n",
              "\n",
              "    [theme=dark] .colab-df-convert {\n",
              "      background-color: #3B4455;\n",
              "      fill: #D2E3FC;\n",
              "    }\n",
              "\n",
              "    [theme=dark] .colab-df-convert:hover {\n",
              "      background-color: #434B5C;\n",
              "      box-shadow: 0px 1px 3px 1px rgba(0, 0, 0, 0.15);\n",
              "      filter: drop-shadow(0px 1px 2px rgba(0, 0, 0, 0.3));\n",
              "      fill: #FFFFFF;\n",
              "    }\n",
              "  </style>\n",
              "\n",
              "    <script>\n",
              "      const buttonEl =\n",
              "        document.querySelector('#df-e91003ae-a564-4a31-a249-ff39b1a700e0 button.colab-df-convert');\n",
              "      buttonEl.style.display =\n",
              "        google.colab.kernel.accessAllowed ? 'block' : 'none';\n",
              "\n",
              "      async function convertToInteractive(key) {\n",
              "        const element = document.querySelector('#df-e91003ae-a564-4a31-a249-ff39b1a700e0');\n",
              "        const dataTable =\n",
              "          await google.colab.kernel.invokeFunction('convertToInteractive',\n",
              "                                                    [key], {});\n",
              "        if (!dataTable) return;\n",
              "\n",
              "        const docLinkHtml = 'Like what you see? Visit the ' +\n",
              "          '<a target=\"_blank\" href=https://colab.research.google.com/notebooks/data_table.ipynb>data table notebook</a>'\n",
              "          + ' to learn more about interactive tables.';\n",
              "        element.innerHTML = '';\n",
              "        dataTable['output_type'] = 'display_data';\n",
              "        await google.colab.output.renderOutput(dataTable, element);\n",
              "        const docLink = document.createElement('div');\n",
              "        docLink.innerHTML = docLinkHtml;\n",
              "        element.appendChild(docLink);\n",
              "      }\n",
              "    </script>\n",
              "  </div>\n",
              "\n",
              "\n",
              "<div id=\"df-bfc4bcba-b137-4d0c-b69b-5e27a3793ada\">\n",
              "  <button class=\"colab-df-quickchart\" onclick=\"quickchart('df-bfc4bcba-b137-4d0c-b69b-5e27a3793ada')\"\n",
              "            title=\"Suggest charts\"\n",
              "            style=\"display:none;\">\n",
              "\n",
              "<svg xmlns=\"http://www.w3.org/2000/svg\" height=\"24px\"viewBox=\"0 0 24 24\"\n",
              "     width=\"24px\">\n",
              "    <g>\n",
              "        <path d=\"M19 3H5c-1.1 0-2 .9-2 2v14c0 1.1.9 2 2 2h14c1.1 0 2-.9 2-2V5c0-1.1-.9-2-2-2zM9 17H7v-7h2v7zm4 0h-2V7h2v10zm4 0h-2v-4h2v4z\"/>\n",
              "    </g>\n",
              "</svg>\n",
              "  </button>\n",
              "\n",
              "<style>\n",
              "  .colab-df-quickchart {\n",
              "      --bg-color: #E8F0FE;\n",
              "      --fill-color: #1967D2;\n",
              "      --hover-bg-color: #E2EBFA;\n",
              "      --hover-fill-color: #174EA6;\n",
              "      --disabled-fill-color: #AAA;\n",
              "      --disabled-bg-color: #DDD;\n",
              "  }\n",
              "\n",
              "  [theme=dark] .colab-df-quickchart {\n",
              "      --bg-color: #3B4455;\n",
              "      --fill-color: #D2E3FC;\n",
              "      --hover-bg-color: #434B5C;\n",
              "      --hover-fill-color: #FFFFFF;\n",
              "      --disabled-bg-color: #3B4455;\n",
              "      --disabled-fill-color: #666;\n",
              "  }\n",
              "\n",
              "  .colab-df-quickchart {\n",
              "    background-color: var(--bg-color);\n",
              "    border: none;\n",
              "    border-radius: 50%;\n",
              "    cursor: pointer;\n",
              "    display: none;\n",
              "    fill: var(--fill-color);\n",
              "    height: 32px;\n",
              "    padding: 0;\n",
              "    width: 32px;\n",
              "  }\n",
              "\n",
              "  .colab-df-quickchart:hover {\n",
              "    background-color: var(--hover-bg-color);\n",
              "    box-shadow: 0 1px 2px rgba(60, 64, 67, 0.3), 0 1px 3px 1px rgba(60, 64, 67, 0.15);\n",
              "    fill: var(--button-hover-fill-color);\n",
              "  }\n",
              "\n",
              "  .colab-df-quickchart-complete:disabled,\n",
              "  .colab-df-quickchart-complete:disabled:hover {\n",
              "    background-color: var(--disabled-bg-color);\n",
              "    fill: var(--disabled-fill-color);\n",
              "    box-shadow: none;\n",
              "  }\n",
              "\n",
              "  .colab-df-spinner {\n",
              "    border: 2px solid var(--fill-color);\n",
              "    border-color: transparent;\n",
              "    border-bottom-color: var(--fill-color);\n",
              "    animation:\n",
              "      spin 1s steps(1) infinite;\n",
              "  }\n",
              "\n",
              "  @keyframes spin {\n",
              "    0% {\n",
              "      border-color: transparent;\n",
              "      border-bottom-color: var(--fill-color);\n",
              "      border-left-color: var(--fill-color);\n",
              "    }\n",
              "    20% {\n",
              "      border-color: transparent;\n",
              "      border-left-color: var(--fill-color);\n",
              "      border-top-color: var(--fill-color);\n",
              "    }\n",
              "    30% {\n",
              "      border-color: transparent;\n",
              "      border-left-color: var(--fill-color);\n",
              "      border-top-color: var(--fill-color);\n",
              "      border-right-color: var(--fill-color);\n",
              "    }\n",
              "    40% {\n",
              "      border-color: transparent;\n",
              "      border-right-color: var(--fill-color);\n",
              "      border-top-color: var(--fill-color);\n",
              "    }\n",
              "    60% {\n",
              "      border-color: transparent;\n",
              "      border-right-color: var(--fill-color);\n",
              "    }\n",
              "    80% {\n",
              "      border-color: transparent;\n",
              "      border-right-color: var(--fill-color);\n",
              "      border-bottom-color: var(--fill-color);\n",
              "    }\n",
              "    90% {\n",
              "      border-color: transparent;\n",
              "      border-bottom-color: var(--fill-color);\n",
              "    }\n",
              "  }\n",
              "</style>\n",
              "\n",
              "  <script>\n",
              "    async function quickchart(key) {\n",
              "      const quickchartButtonEl =\n",
              "        document.querySelector('#' + key + ' button');\n",
              "      quickchartButtonEl.disabled = true;  // To prevent multiple clicks.\n",
              "      quickchartButtonEl.classList.add('colab-df-spinner');\n",
              "      try {\n",
              "        const charts = await google.colab.kernel.invokeFunction(\n",
              "            'suggestCharts', [key], {});\n",
              "      } catch (error) {\n",
              "        console.error('Error during call to suggestCharts:', error);\n",
              "      }\n",
              "      quickchartButtonEl.classList.remove('colab-df-spinner');\n",
              "      quickchartButtonEl.classList.add('colab-df-quickchart-complete');\n",
              "    }\n",
              "    (() => {\n",
              "      let quickchartButtonEl =\n",
              "        document.querySelector('#df-bfc4bcba-b137-4d0c-b69b-5e27a3793ada button');\n",
              "      quickchartButtonEl.style.display =\n",
              "        google.colab.kernel.accessAllowed ? 'block' : 'none';\n",
              "    })();\n",
              "  </script>\n",
              "</div>\n",
              "    </div>\n",
              "  </div>\n"
            ],
            "application/vnd.google.colaboratory.intrinsic+json": {
              "type": "dataframe",
              "summary": "{\n  \"name\": \"# \\u0432 \\u043e\\u0442\\u0434\\u0435\\u043b\\u044c\\u043d\\u044b\\u0435 \\u0441\\u0442\\u043e\\u043b\\u0431\\u0446\\u044b PC1, PC2\",\n  \"rows\": 3,\n  \"fields\": [\n    {\n      \"column\": \"\\u041a\\u043e\\u043b\\u0438\\u0447\\u0435\\u0441\\u0442\\u0432\\u043e SMS \\u0437\\u0430 \\u043c\\u0435\\u0441\\u044f\\u0446\",\n      \"properties\": {\n        \"dtype\": \"number\",\n        \"std\": 0.1555241442131291,\n        \"min\": 0.00558659217877095,\n        \"max\": 0.3128491620111732,\n        \"num_unique_values\": 3,\n        \"samples\": [\n          0.3128491620111732,\n          0.00558659217877095,\n          0.2011173184357542\n        ],\n        \"semantic_type\": \"\",\n        \"description\": \"\"\n      }\n    },\n    {\n      \"column\": \"\\u041a\\u043e\\u043b\\u0438\\u0447\\u0435\\u0441\\u0442\\u0432\\u043e \\u0437\\u0432\\u043e\\u043d\\u043a\\u043e\\u0432\",\n      \"properties\": {\n        \"dtype\": \"number\",\n        \"std\": 0.13362289460097987,\n        \"min\": 0.1042654028436019,\n        \"max\": 0.3459715639810427,\n        \"num_unique_values\": 3,\n        \"samples\": [\n          0.1263823064770932,\n          0.3459715639810427,\n          0.1042654028436019\n        ],\n        \"semantic_type\": \"\",\n        \"description\": \"\"\n      }\n    },\n    {\n      \"column\": \"\\u0421\\u0440\\u0435\\u0434\\u043d\\u0435\\u043c\\u0435\\u0441\\u044f\\u0447\\u043d\\u044b\\u0439 \\u0440\\u0430\\u0441\\u0445\\u043e\\u0434\",\n      \"properties\": {\n        \"dtype\": \"number\",\n        \"std\": 0.01909968075418972,\n        \"min\": 0.02150370263718047,\n        \"max\": 0.05532164106794719,\n        \"num_unique_values\": 3,\n        \"samples\": [\n          0.023029119110900113,\n          0.05532164106794719,\n          0.02150370263718047\n        ],\n        \"semantic_type\": \"\",\n        \"description\": \"\"\n      }\n    },\n    {\n      \"column\": \"PC1\",\n      \"properties\": {\n        \"dtype\": \"number\",\n        \"std\": 0.05876420208738321,\n        \"min\": -0.0945528640488662,\n        \"max\": 0.022967628359254866,\n        \"num_unique_values\": 3,\n        \"samples\": [\n          -0.034611627152628055,\n          0.022967628359254866,\n          -0.0945528640488662\n        ],\n        \"semantic_type\": \"\",\n        \"description\": \"\"\n      }\n    },\n    {\n      \"column\": \"PC2\",\n      \"properties\": {\n        \"dtype\": \"number\",\n        \"std\": 0.17851421672502313,\n        \"min\": -0.12182092207423832,\n        \"max\": 0.2241860643948386,\n        \"num_unique_values\": 3,\n        \"samples\": [\n          0.2241860643948386,\n          -0.12182092207423832,\n          0.1274147868226208\n        ],\n        \"semantic_type\": \"\",\n        \"description\": \"\"\n      }\n    }\n  ]\n}"
            }
          },
          "metadata": {},
          "execution_count": 10
        }
      ],
      "source": [
        "# для визуализации в двумерном пространстве из нескольких признаков сконструируем два,\n",
        "# используя метод главных компонент\n",
        "from sklearn.decomposition import PCA\n",
        "\n",
        "dfs[[\"PC1\", \"PC2\"]] = PCA(n_components=2).fit_transform(dfs)\n",
        "dfs.head(3)\n",
        "# выполняем конструирование признаков, поместим полученные значения\n",
        "# в отдельные столбцы PC1, PC2"
      ]
    },
    {
      "cell_type": "code",
      "execution_count": 11,
      "metadata": {
        "id": "raW73ZNWhTFi",
        "colab": {
          "base_uri": "https://localhost:8080/",
          "height": 294
        },
        "outputId": "a88fbfe1-f9cc-4707-f656-de78059d9c8b"
      },
      "outputs": [
        {
          "output_type": "display_data",
          "data": {
            "text/plain": [
              "<Figure size 400x300 with 1 Axes>"
            ],
            "image/png": "[encoded data removed]"
          },
          "metadata": {}
        }
      ],
      "source": [
        "plt.rcParams[\"figure.figsize\"] = 4, 3\n",
        "\n",
        "plt.scatter(dfs[\"PC1\"], dfs[\"PC2\"], color=\"red\", marker=\".\");\n",
        "#Cогласно точечной диаграмме, точки очень неоднозначно распределены по кластерам и понятного мало чего"
      ]
    },
    {
      "cell_type": "markdown",
      "metadata": {
        "id": "__dIwYfjhTFj"
      },
      "source": [
        "#### Оценка качества кластеризации"
      ]
    },
    {
      "cell_type": "code",
      "execution_count": 12,
      "metadata": {
        "id": "2FS_7IfYhTFj",
        "colab": {
          "base_uri": "https://localhost:8080/"
        },
        "outputId": "8c277854-d5ff-48ba-9dd1-10e43a5a0526"
      },
      "outputs": [
        {
          "output_type": "stream",
          "name": "stdout",
          "text": [
            "ARI (k-means) = 0.12031233772851782\n",
            "ARI (k-means) = 0.010058108921639473\n",
            "ARI (k-means) = 0.0002979643306527963\n",
            "ARI (k-means) = 0.27290500257859995\n"
          ]
        },
        {
          "output_type": "stream",
          "name": "stderr",
          "text": [
            "/usr/local/lib/python3.10/dist-packages/sklearn/metrics/cluster/_supervised.py:66: UserWarning: Clustering metrics expects discrete values but received continuous values for label, and multiclass values for target\n",
            "  warnings.warn(msg, UserWarning)\n"
          ]
        }
      ],
      "source": [
        "# КОД ARI\n",
        "print(f\"ARI (k-means) = {adjusted_rand_score(df['Количество SMS за месяц'], kmeans.labels_)}\")\n",
        "print(f\"ARI (k-means) = {adjusted_rand_score(df['Количество звонков'], kmeans.labels_)}\")\n",
        "print(f\"ARI (k-means) = {adjusted_rand_score(df['Среднемесячный расход'], kmeans.labels_)}\")\n",
        "print(f\"ARI (k-means) = {adjusted_rand_score(df['Кластер'], kmeans.labels_)}\")\n",
        "# Вывод - ARI околонулевой. Это значит, что с т.ч. наших алгоритмов имеющиеся признаки не описывают принадлежность\n",
        "# В заведомо правильном ARI получили 0.3, что говорит об некотором сходстве с истиной разбиения на кластеры"
      ]
    },
    {
      "cell_type": "code",
      "source": [
        "#Silhouette\n",
        "print(f\"Силуэт (k-means) = {silhouette_score(dfs[claster_tags], kmeans.labels_)}\")\n",
        "#Вывод - Силуэт показывает значение близкое к единице, что говорит о среднем по качеству разбиении"
      ],
      "metadata": {
        "colab": {
          "base_uri": "https://localhost:8080/"
        },
        "id": "U5wJzinzm4me",
        "outputId": "5dc29679-cee6-4668-f70f-a59249e16d93"
      },
      "execution_count": 13,
      "outputs": [
        {
          "output_type": "stream",
          "name": "stdout",
          "text": [
            "Силуэт (k-means) = 0.3930703845790818\n"
          ]
        }
      ]
    },
    {
      "cell_type": "markdown",
      "metadata": {
        "id": "G0E-ECnNhTFj"
      },
      "source": [
        "### 2. Алгоритм DBSCAN"
      ]
    },
    {
      "cell_type": "code",
      "execution_count": 32,
      "metadata": {
        "id": "o7TH2Ok8hTFj",
        "colab": {
          "base_uri": "https://localhost:8080/",
          "height": 487
        },
        "outputId": "7acb4a35-308b-4086-e08c-14dd4789ca91"
      },
      "outputs": [
        {
          "output_type": "execute_result",
          "data": {
            "text/plain": [
              "<matplotlib.legend.Legend at 0x7944613c84c0>"
            ]
          },
          "metadata": {},
          "execution_count": 32
        },
        {
          "output_type": "display_data",
          "data": {
            "text/plain": [
              "<Figure size 800x500 with 1 Axes>"
            ],
            "image/png": "[encoded data removed]"
          },
          "metadata": {}
        }
      ],
      "source": [
        "# сколько всего кластеров выделил DBSCAN?\n",
        "model_dbscan_s = DBSCAN(eps=0.09, min_samples=20)\n",
        "y_pred_dbscan_s = model_dbscan_s.fit_predict(dfs[claster_tags])\n",
        "labels_dbscan = model_dbscan_s.labels_\n",
        "model_dbscan_s.get_params()\n",
        "\n",
        "df['Кластер_1'] = labels_dbscan\n",
        "\n",
        "x= df['Кластер_1']\n",
        "y = df['Среднемесячный расход']\n",
        "fig, ax = plt.subplots(figsize=(8,5))\n",
        "sc = ax.scatter(x, y, c=y_pred_dbscan_s, cmap='tab20')\n",
        "ax.grid(True)\n",
        "plt.xlabel(\"Кластер\",fontsize=14)\n",
        "plt.ylabel(\"Среднемесячный расход\",fontsize=15)\n",
        "ax.legend(*sc.legend_elements(), title='Кластеры')\n",
        "#ДБСКАН смог выделить однозначно хотя бы два кластера и третий кластер похож на выброс!"
      ]
    },
    {
      "cell_type": "code",
      "execution_count": 33,
      "metadata": {
        "id": "IZTzBEClhTFj",
        "colab": {
          "base_uri": "https://localhost:8080/",
          "height": 178
        },
        "outputId": "6ace37f8-276b-43b8-e4b7-75eb1fc9469d"
      },
      "outputs": [
        {
          "output_type": "execute_result",
          "data": {
            "text/plain": [
              " 0    4274\n",
              "-1     164\n",
              " 1      54\n",
              "Name: count, dtype: int64"
            ],
            "text/html": [
              "<div>\n",
              "<style scoped>\n",
              "    .dataframe tbody tr th:only-of-type {\n",
              "        vertical-align: middle;\n",
              "    }\n",
              "\n",
              "    .dataframe tbody tr th {\n",
              "        vertical-align: top;\n",
              "    }\n",
              "\n",
              "    .dataframe thead th {\n",
              "        text-align: right;\n",
              "    }\n",
              "</style>\n",
              "<table border=\"1\" class=\"dataframe\">\n",
              "  <thead>\n",
              "    <tr style=\"text-align: right;\">\n",
              "      <th></th>\n",
              "      <th>count</th>\n",
              "    </tr>\n",
              "  </thead>\n",
              "  <tbody>\n",
              "    <tr>\n",
              "      <th>0</th>\n",
              "      <td>4274</td>\n",
              "    </tr>\n",
              "    <tr>\n",
              "      <th>-1</th>\n",
              "      <td>164</td>\n",
              "    </tr>\n",
              "    <tr>\n",
              "      <th>1</th>\n",
              "      <td>54</td>\n",
              "    </tr>\n",
              "  </tbody>\n",
              "</table>\n",
              "</div><br><label><b>dtype:</b> int64</label>"
            ]
          },
          "metadata": {},
          "execution_count": 33
        }
      ],
      "source": [
        "pd.Series(labels_dbscan).value_counts()"
      ]
    },
    {
      "cell_type": "markdown",
      "metadata": {
        "id": "aPSfwEMIhTFk"
      },
      "source": [
        "#### Оценка качества кластеризации"
      ]
    },
    {
      "cell_type": "code",
      "execution_count": 27,
      "metadata": {
        "id": "DQgGWtrOhTFk",
        "colab": {
          "base_uri": "https://localhost:8080/"
        },
        "outputId": "f1be5b3a-d098-4601-dd54-ecfa4013be21"
      },
      "outputs": [
        {
          "output_type": "stream",
          "name": "stdout",
          "text": [
            "ARI (DBSCAN) = 0.012301503321071751\n",
            "ARI (DBSCAN) = 0.001922956864422944\n",
            "ARI (DBSCAN) = 3.884760484284296e-05\n",
            "ARI (DBSCAN) = 1.0\n"
          ]
        },
        {
          "output_type": "stream",
          "name": "stderr",
          "text": [
            "/usr/local/lib/python3.10/dist-packages/sklearn/metrics/cluster/_supervised.py:66: UserWarning: Clustering metrics expects discrete values but received continuous values for label, and multiclass values for target\n",
            "  warnings.warn(msg, UserWarning)\n"
          ]
        }
      ],
      "source": [
        "#ARI\n",
        "print(f\"ARI (DBSCAN) = {adjusted_rand_score(df['Количество SMS за месяц'], labels_dbscan)}\")\n",
        "print(f\"ARI (DBSCAN) = {adjusted_rand_score(df['Количество звонков'], labels_dbscan)}\")\n",
        "print(f\"ARI (DBSCAN) = {adjusted_rand_score(df['Среднемесячный расход'], labels_dbscan)}\")\n",
        "print(f\"ARI (DBSCAN) = {adjusted_rand_score(df['Кластер_1'], labels_dbscan)}\")\n",
        "# Оценка качества метода метрикой ARI также дает информацию про отсутствие зависимости от колонок с кластерами\n",
        "#Заведомо положительныый результат показал 1, следовательно разбиения истины"
      ]
    },
    {
      "cell_type": "code",
      "execution_count": 34,
      "metadata": {
        "id": "fBH-xdTvhTFk",
        "colab": {
          "base_uri": "https://localhost:8080/"
        },
        "outputId": "688fc562-f91a-469f-da66-99d698dabad9"
      },
      "outputs": [
        {
          "output_type": "stream",
          "name": "stdout",
          "text": [
            "Силуэт (DBSCAN) = 0.6314331994337024\n"
          ]
        }
      ],
      "source": [
        "#Silhouette\n",
        "print(f\"Силуэт (DBSCAN) = {silhouette_score(dfs[claster_tags], labels_dbscan)}\")\n",
        "# Силуэт показывает значение 0,63, что означает разбиение носит средне-хороший характер"
      ]
    },
    {
      "cell_type": "markdown",
      "metadata": {
        "id": "fDQjEDUihTFk"
      },
      "source": [
        "### 3. Иерархический агломеративный метод"
      ]
    },
    {
      "cell_type": "code",
      "execution_count": 36,
      "metadata": {
        "id": "h4lem1xhhTFk",
        "colab": {
          "base_uri": "https://localhost:8080/",
          "height": 487
        },
        "outputId": "354478ce-eafd-4c48-f841-f03122f69f63"
      },
      "outputs": [
        {
          "output_type": "execute_result",
          "data": {
            "text/plain": [
              "<matplotlib.legend.Legend at 0x794457f40730>"
            ]
          },
          "metadata": {},
          "execution_count": 36
        },
        {
          "output_type": "display_data",
          "data": {
            "text/plain": [
              "<Figure size 800x500 with 1 Axes>"
            ],
            "image/png": "[encoded data removed]"
          },
          "metadata": {}
        }
      ],
      "source": [
        "model_agglo3 = AgglomerativeClustering(n_clusters=3)\n",
        "model_agglo3.fit(dfs[claster_tags])\n",
        "y_pred_agglo3 = model_agglo3.fit_predict(dfs[claster_tags])\n",
        "labels_agglo3 = model_agglo3.labels_\n",
        "\n",
        "df['Кластер_2'] = labels_agglo3\n",
        "\n",
        "x= df['Кластер_2']\n",
        "y = df['Среднемесячный расход']\n",
        "fig, ax = plt.subplots(figsize=(8,5))\n",
        "sc = ax.scatter(x, y, c=y_pred_agglo3, cmap='tab20')\n",
        "ax.grid(True)\n",
        "plt.xlabel(\"Кластер\",fontsize=14)\n",
        "plt.ylabel(\"Среднемесячный расход\",fontsize=15)\n",
        "ax.legend(*sc.legend_elements(), title='Кластеры')\n",
        "#ИА метод, также, как и K-means выделил 3 кластера достаточно однозначно"
      ]
    },
    {
      "cell_type": "code",
      "execution_count": 37,
      "metadata": {
        "id": "tgMg-PWYhTFk",
        "colab": {
          "base_uri": "https://localhost:8080/"
        },
        "outputId": "399c7000-dfd5-4f15-c87e-70018640594b"
      },
      "outputs": [
        {
          "output_type": "stream",
          "name": "stdout",
          "text": [
            "ARI (Aglomerative) = 0.08298442241254435\n",
            "ARI (Aglomerative) = 0.002088763190675735\n",
            "ARI (Aglomerative) = 8.58057321346289e-05\n",
            "ARI (Aglomerative) = 1.0\n"
          ]
        },
        {
          "output_type": "stream",
          "name": "stderr",
          "text": [
            "/usr/local/lib/python3.10/dist-packages/sklearn/metrics/cluster/_supervised.py:66: UserWarning: Clustering metrics expects discrete values but received continuous values for label, and multiclass values for target\n",
            "  warnings.warn(msg, UserWarning)\n"
          ]
        }
      ],
      "source": [
        "#ARI\n",
        "print(f\"ARI (Aglomerative) = {adjusted_rand_score(df['Количество SMS за месяц'], model_agglo3.labels_)}\")\n",
        "print(f\"ARI (Aglomerative) = {adjusted_rand_score(df['Количество звонков'], model_agglo3.labels_)}\")\n",
        "print(f\"ARI (Aglomerative) = {adjusted_rand_score(df['Среднемесячный расход'], model_agglo3.labels_)}\")\n",
        "print(f\"ARI (Aglomerative) = {adjusted_rand_score(df['Кластер_2'], model_agglo3.labels_)}\")\n",
        "#Метрики ARI показывают отсутствие принадлежности  по имеющимся признакам"
      ]
    },
    {
      "cell_type": "code",
      "source": [
        "print(f\"Силуэт (Aglomerative) = {silhouette_score(dfs, model_agglo3.labels_)}\")\n",
        "#Метрика силуэт показывает о среднем по качеству разбиении"
      ],
      "metadata": {
        "colab": {
          "base_uri": "https://localhost:8080/"
        },
        "id": "AmjTXENYpUjH",
        "outputId": "be566a97-57bb-4a9f-cee9-ef436678f0ed"
      },
      "execution_count": 38,
      "outputs": [
        {
          "output_type": "stream",
          "name": "stdout",
          "text": [
            "Силуэт (Aglomerative) = 0.40755364364814123\n"
          ]
        }
      ]
    },
    {
      "cell_type": "markdown",
      "source": [
        "#Подбор оптимального числа кластеров"
      ],
      "metadata": {
        "id": "sPJF_xuBrXaW"
      }
    },
    {
      "cell_type": "code",
      "source": [
        "for clusters_count in range(2, 10):\n",
        "  # k-means\n",
        "  model_kmeans = KMeans(n_clusters=clusters_count, n_init=10, random_state=0)\n",
        "  model_kmeans.fit(dfs[claster_tags])\n",
        "  labels_kmeans = model_kmeans.labels_\n",
        "\n",
        "  # иерархический агломеративный метод\n",
        "  model_agglo = AgglomerativeClustering(n_clusters=clusters_count)\n",
        "  model_agglo.fit(dfs[claster_tags])\n",
        "  labels_agglo = model_agglo.labels_\n",
        "\n",
        "  # вычислим силуэт\n",
        "  print(f\"Силуэт (k-means {clusters_count}) = {silhouette_score(dfs[claster_tags], labels_kmeans)}\")\n",
        "  print(f\"Силуэт (аглом. {clusters_count}) = {silhouette_score(dfs[claster_tags], labels_agglo)}\\n\")\n",
        "\n",
        "  #Вывод: Силуэт максимальный при 2 кластерах для двух методов"
      ],
      "metadata": {
        "id": "RbBVe4i4rcUX",
        "colab": {
          "base_uri": "https://localhost:8080/"
        },
        "outputId": "1307bb99-991c-4e2e-9971-bb285f8ba7db"
      },
      "execution_count": 39,
      "outputs": [
        {
          "output_type": "stream",
          "name": "stdout",
          "text": [
            "Силуэт (k-means 2) = 0.6165904743318926\n",
            "Силуэт (аглом. 2) = 0.6557708831384235\n",
            "\n",
            "Силуэт (k-means 3) = 0.5094503416591726\n",
            "Силуэт (аглом. 3) = 0.39371441056903483\n",
            "\n",
            "Силуэт (k-means 4) = 0.406231101145626\n",
            "Силуэт (аглом. 4) = 0.38457714632421885\n",
            "\n",
            "Силуэт (k-means 5) = 0.38553253551904837\n",
            "Силуэт (аглом. 5) = 0.38983269865087206\n",
            "\n",
            "Силуэт (k-means 6) = 0.4046589778968578\n",
            "Силуэт (аглом. 6) = 0.35821172683709407\n",
            "\n",
            "Силуэт (k-means 7) = 0.3952397931737959\n",
            "Силуэт (аглом. 7) = 0.3617548364397412\n",
            "\n",
            "Силуэт (k-means 8) = 0.3752803923864724\n",
            "Силуэт (аглом. 8) = 0.347047665879824\n",
            "\n",
            "Силуэт (k-means 9) = 0.382939422862601\n",
            "Силуэт (аглом. 9) = 0.34498660639163986\n",
            "\n"
          ]
        }
      ]
    }
  ],
  "metadata": {
    "kernelspec": {
      "display_name": "Python 3 (ipykernel)",
      "language": "python",
      "name": "python3"
    },
    "language_info": {
      "codemirror_mode": {
        "name": "ipython",
        "version": 3
      },
      "file_extension": ".py",
      "mimetype": "text/x-python",
      "name": "python",
      "nbconvert_exporter": "python",
      "pygments_lexer": "ipython3",
      "version": "3.9.7"
    },
    "colab": {
      "provenance": [],
      "collapsed_sections": [
        "sPJF_xuBrXaW"
      ],
      "include_colab_link": true
    }
  },
  "nbformat": 4,
  "nbformat_minor": 0
}